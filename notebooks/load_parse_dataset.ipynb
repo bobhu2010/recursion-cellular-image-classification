{
 "cells": [
  {
   "cell_type": "code",
   "execution_count": null,
   "metadata": {},
   "outputs": [],
   "source": [
    "import numpy as np\n",
    "import pandas as pd\n",
    "import os\n",
    "import sys\n",
    "import matplotlib.pyplot as plt\n",
    "from tqdm import tqdm_notebook\n",
    "from PIL import Image\n",
    "from keras import utils\n",
    "%matplotlib inline"
   ]
  },
  {
   "cell_type": "code",
   "execution_count": null,
   "metadata": {},
   "outputs": [],
   "source": [
    "train_df = pd.read_csv('../data/train.csv')"
   ]
  },
  {
   "cell_type": "code",
   "execution_count": null,
   "metadata": {},
   "outputs": [],
   "source": [
    "#get targets to write out\n",
    "y_train = train_df['sirna'].values\n",
    "y_train = utils.to_categorical(y_train)\n",
    "print(y_train.shape)"
   ]
  },
  {
   "cell_type": "code",
   "execution_count": null,
   "metadata": {},
   "outputs": [],
   "source": [
    "def parse_all_train():\n",
    "    dataset = 'train'\n",
    "    experiments = train_df['experiment'].values\n",
    "    plates = train_df['plate'].values\n",
    "    wells = train_df['well'].values\n",
    "    sites = np.array([1,2])\n",
    "    channels=np.array([1,2,3,4,5,6])\n",
    "    \n",
    "    start = 0\n",
    "    end = 36000\n",
    "    \n",
    "    for site in sites:\n",
    "        for k in range(start, end, 1000):\n",
    "            print(\"Current cycle: \", k)\n",
    "            site_img = np.empty((1000, 512, 512, 6), dtype=np.float16)\n",
    "            j=0\n",
    "            for i  in tqdm_notebook(range(k, k+site_img.shape[0])):\n",
    "                for channel in channels:\n",
    "                    path = f'../data/{dataset}/{experiments[i]}/Plate{plates[i]}/{wells[i]}_s{site}_w{channel}.png'\n",
    "                    print(f'current image: {j}')\n",
    "                    site_img[j, :, :, channel-1] = Image.open(path)\n",
    "                j+=1\n",
    "                    \n",
    "            #normalize here\n",
    "            site_img /= 255\n",
    "\n",
    "            print(\"x_train shape: \", site_img.shape)\n",
    "\n",
    "            print(\"Writing to file...\")\n",
    "            np.save(f'../data/train_parsed/x_train_s{site}_{k}', site_img, allow_pickle=True)\n",
    "            np.save(f'../data/train_parsed/y_train_s{site}_{k}', y_train[k:k+site_img.shape[0]], allow_pickle=True)"
   ]
  },
  {
   "cell_type": "code",
   "execution_count": null,
   "metadata": {},
   "outputs": [],
   "source": [
    "parse_all_train()"
   ]
  },
  {
   "cell_type": "code",
   "execution_count": null,
   "metadata": {},
   "outputs": [],
   "source": []
  }
 ],
 "metadata": {
  "kernelspec": {
   "display_name": "keras-gpu",
   "language": "python",
   "name": "keras-gpu"
  },
  "language_info": {
   "codemirror_mode": {
    "name": "ipython",
    "version": 3
   },
   "file_extension": ".py",
   "mimetype": "text/x-python",
   "name": "python",
   "nbconvert_exporter": "python",
   "pygments_lexer": "ipython3",
   "version": "3.6.8"
  }
 },
 "nbformat": 4,
 "nbformat_minor": 2
}
