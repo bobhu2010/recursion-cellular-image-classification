{
 "cells": [
  {
   "cell_type": "code",
   "execution_count": 1,
   "metadata": {},
   "outputs": [
    {
     "name": "stderr",
     "output_type": "stream",
     "text": [
      "Using TensorFlow backend.\n"
     ]
    }
   ],
   "source": [
    "import numpy as np\n",
    "import pandas as pd\n",
    "import os\n",
    "import sys\n",
    "import matplotlib.pyplot as plt\n",
    "from tqdm import tqdm_notebook\n",
    "from PIL import Image\n",
    "from keras import utils\n",
    "%matplotlib inline"
   ]
  },
  {
   "cell_type": "code",
   "execution_count": 2,
   "metadata": {},
   "outputs": [],
   "source": [
    "train_df = pd.read_csv('../data/train.csv')"
   ]
  },
  {
   "cell_type": "code",
   "execution_count": 3,
   "metadata": {},
   "outputs": [
    {
     "name": "stdout",
     "output_type": "stream",
     "text": [
      "(36515, 1108)\n"
     ]
    }
   ],
   "source": [
    "#get targets to write out\n",
    "y_train = train_df['sirna'].values\n",
    "y_train = utils.to_categorical(y_train)\n",
    "print(y_train.shape)"
   ]
  },
  {
   "cell_type": "code",
   "execution_count": 5,
   "metadata": {},
   "outputs": [],
   "source": [
    "def parse_all_train_2():\n",
    "    dataset = 'train'\n",
    "    experiments = train_df['experiment'].values\n",
    "    plates = train_df['plate'].values\n",
    "    wells = train_df['well'].values\n",
    "    sites = np.array([1,2])\n",
    "    channels=np.array([1,2,3,4,5,6])\n",
    "    \n",
    "    x_id = []\n",
    "    y_id = []\n",
    "    \n",
    "    for site in sites:\n",
    "        for i in tqdm_notebook(range(36515)):\n",
    "            site_img = np.empty((512, 512, 6), dtype=np.float16)\n",
    "            for channel in channels:\n",
    "                path = f'../data/{dataset}/{experiments[i]}/Plate{plates[i]}/{wells[i]}_s{site}_w{channel}.png'\n",
    "                site_img[:, :, channel-1] = Image.open(path)\n",
    "            \n",
    "            #normalize\n",
    "            site_img /= 255\n",
    "            \n",
    "            #write out the image\n",
    "            np.save(f'../data/train_parsed/x_{experiments[i]}_{plates[i]}_{wells[i]}_s{site}', site_img, allow_pickle=True)\n",
    "            np.save(f'../data/train_parsed/y_{experiments[i]}_{plates[i]}_{wells[i]}_s{site}', y_train[i], allow_pickle=True)\n",
    "            \n",
    "            x_id.append(f'x_{experiments[i]}_{plates[i]}_{wells[i]}_s{site}')\n",
    "            y_id.append(f'y_{experiments[i]}_{plates[i]}_{wells[i]}_s{site}')\n",
    "    \n",
    "    return x_id, y_id"
   ]
  },
  {
   "cell_type": "code",
   "execution_count": 6,
   "metadata": {},
   "outputs": [
    {
     "data": {
      "application/vnd.jupyter.widget-view+json": {
       "model_id": "42e2249ce0f54bca9de65d06de596a55",
       "version_major": 2,
       "version_minor": 0
      },
      "text/plain": [
       "HBox(children=(IntProgress(value=0, max=36515), HTML(value='')))"
      ]
     },
     "metadata": {},
     "output_type": "display_data"
    },
    {
     "name": "stdout",
     "output_type": "stream",
     "text": [
      "\n"
     ]
    },
    {
     "data": {
      "application/vnd.jupyter.widget-view+json": {
       "model_id": "6bc17e24817f4797b9dcf3b9000a6b40",
       "version_major": 2,
       "version_minor": 0
      },
      "text/plain": [
       "HBox(children=(IntProgress(value=0, max=36515), HTML(value='')))"
      ]
     },
     "metadata": {},
     "output_type": "display_data"
    },
    {
     "name": "stdout",
     "output_type": "stream",
     "text": [
      "\n"
     ]
    }
   ],
   "source": [
    "x_id, y_id = parse_all_train_2()\n",
    "\n",
    "np.save('../data/x_id', x_id, allow_pickle=True)\n",
    "np.save('../data/y_id', y_id, allow_pickle=True)"
   ]
  }
 ],
 "metadata": {
  "kernelspec": {
   "display_name": "keras-gpu",
   "language": "python",
   "name": "keras-gpu"
  },
  "language_info": {
   "codemirror_mode": {
    "name": "ipython",
    "version": 3
   },
   "file_extension": ".py",
   "mimetype": "text/x-python",
   "name": "python",
   "nbconvert_exporter": "python",
   "pygments_lexer": "ipython3",
   "version": "3.6.8"
  }
 },
 "nbformat": 4,
 "nbformat_minor": 2
}
